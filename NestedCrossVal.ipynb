{
 "cells": [
  {
   "cell_type": "code",
   "execution_count": 12,
   "id": "bfb5d020-af5e-49d6-8acf-06c4b5bedceb",
   "metadata": {},
   "outputs": [],
   "source": [
    "import numpy as np\n",
    "from numpy import mean\n",
    "from numpy import std\n",
    "\n",
    "import pandas as pd\n",
    "from matplotlib import pyplot as plt\n",
    "import math\n",
    "\n",
    "from skopt import BayesSearchCV\n",
    "from skopt.space import Real, Categorical, Integer\n",
    "\n",
    "from sklearn.svm import SVC\n",
    "from sklearn.naive_bayes import MultinomialNB\n",
    "from sklearn.model_selection import LeaveOneOut, train_test_split, cross_val_score, GridSearchCV, cross_validate, KFold, StratifiedKFold, RandomizedSearchCV\n",
    "from sklearn.metrics import roc_curve, auc, precision_recall_curve, classification_report, average_precision_score, f1_score, accuracy_score, roc_auc_score, balanced_accuracy_score, matthews_corrcoef"
   ]
  },
  {
   "cell_type": "code",
   "execution_count": 2,
   "id": "5a7dbbbc-4d8e-4bde-b70d-79e61277ce59",
   "metadata": {},
   "outputs": [],
   "source": [
    "data_hvg_95 = pd.read_pickle(\"data_normalized_highly_variable_genes_95.pkl\")\n",
    "metadata_final = pd.read_pickle(\"metadata_final.pkl\")"
   ]
  },
  {
   "cell_type": "code",
   "execution_count": 3,
   "id": "981ebcf8-f889-4a87-ab2f-e025cb964028",
   "metadata": {},
   "outputs": [],
   "source": [
    "X = data_hvg_95.values\n",
    "labels = metadata_final[\"Cell class\"].replace('Tumor', 1)\n",
    "labels = labels.replace('Periphery', 0)\n",
    "y = np.array(labels)"
   ]
  },
  {
   "cell_type": "code",
   "execution_count": 17,
   "id": "0155b3e9-1a63-48ca-85a6-586179759005",
   "metadata": {},
   "outputs": [],
   "source": [
    "inner_metric = 'matthews_corrcoef'\n",
    "outer_metrics = ['roc_auc', 'balanced_accuracy', 'matthews_corrcoef']\n",
    "\n",
    "\n",
    "# configure the cross-validation procedure\n",
    "cv_inner = StratifiedKFold(n_splits=3, shuffle=True)\n",
    "cv_outer = StratifiedKFold(n_splits=10, shuffle=True)"
   ]
  },
  {
   "cell_type": "code",
   "execution_count": null,
   "id": "b102d0e3",
   "metadata": {},
   "outputs": [],
   "source": [
    "rf = SVC()\n",
    "\n",
    "bayes_params = {\n",
    "             'C': Real(1e-6, 1e+6, prior='log-uniform'),\n",
    "             'gamma': Real(0.01, 1e+1, prior='log-uniform'),\n",
    "             'degree': Integer(1,8),\n",
    "             'kernel': Categorical(['linear', 'poly', 'rbf']),\n",
    "         }\n",
    "\n",
    "\n",
    "rf_model = BayesSearchCV(estimator = rf, search_spaces = bayes_params, cv = cv_inner, verbose=3,  n_jobs = -1, n_iter = 30)\n",
    "# execute the nested cross-validation\n",
    "scores = cross_validate(rf_model, X, y, scoring=outer_metrics, cv=cv_outer, n_jobs=-1)\n",
    "\n",
    "# perform the search\n",
    "rf_model.fit(X, y)\n",
    "# report the best result\n",
    "\n",
    "params = rf_model.best_params_\n",
    "print(\"\\tBest parameters:\", params)\n",
    "\n",
    "score = rf_model.best_score_\n",
    "print(\"\\tBest score:\", score)\n",
    "\n",
    "result = pd.DataFrame(rf_model.cv_results_)"
   ]
  },
  {
   "cell_type": "code",
   "execution_count": null,
   "id": "535f4f31",
   "metadata": {},
   "outputs": [],
   "source": [
    "scores = pd.Dataframe(scores)\n",
    "scores.mean(axis=0)"
   ]
  },
  {
   "cell_type": "code",
   "execution_count": null,
   "id": "4bc0a3f2",
   "metadata": {},
   "outputs": [],
   "source": [
    "final_svc = SVC()\n",
    "scores = cross_validate(final_svc, X, y, scoring=outer_metrics, cv=cv_outer, n_jobs=-1)\n",
    "\n",
    "scores = pd.DataFrame(scores)\n",
    "scores.mean(axis=0)"
   ]
  },
  {
   "cell_type": "code",
   "execution_count": null,
   "id": "3ca17fc8",
   "metadata": {},
   "outputs": [],
   "source": [
    "# define the model\n",
    "rf = MultinomialNB()\n",
    "\n",
    "# define parameters\n",
    "grid_params = {'alpha':Real(1e-6, 1e+6, prior='log-uniform'),\n",
    "               'fit_prior': [True, False]}\n",
    "\n",
    "rf_grid = BayesSearchCV(estimator = rf, search_spaces = bayes_params, cv = cv_inner, verbose=3,  n_jobs = -1, n_iter = 30)\n",
    "\n",
    "# execute the nested cross-validation\n",
    "scores = cross_validate(rf_grid, X, y, scoring=outer_metrics, verbose=3, cv=cv_outer, n_jobs=-1)\n",
    "\n",
    "#Best\n",
    "rf_grid.fit(X, y)\n",
    "print(\"Best parameters:  \", rf_grid.best_params_)\n",
    "print(\"Best score: \", rf_grid.best_score_)"
   ]
  }
 ],
 "metadata": {
  "interpreter": {
   "hash": "916dbcbb3f70747c44a77c7bcd40155683ae19c65e1c03b4aa3499c5328201f1"
  },
  "kernelspec": {
   "display_name": "Python 3.8.10 64-bit",
   "language": "python",
   "name": "python3"
  },
  "language_info": {
   "codemirror_mode": {
    "name": "ipython",
    "version": 3
   },
   "file_extension": ".py",
   "mimetype": "text/x-python",
   "name": "python",
   "nbconvert_exporter": "python",
   "pygments_lexer": "ipython3",
   "version": "3.8.10"
  }
 },
 "nbformat": 4,
 "nbformat_minor": 5
}
