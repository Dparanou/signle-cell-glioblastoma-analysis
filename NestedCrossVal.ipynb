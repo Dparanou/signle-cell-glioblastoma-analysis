{
 "cells": [
  {
   "cell_type": "code",
   "execution_count": null,
   "id": "bfb5d020-af5e-49d6-8acf-06c4b5bedceb",
   "metadata": {},
   "outputs": [],
   "source": [
    "import numpy as np\n",
    "from numpy import mean\n",
    "from numpy import std\n",
    "\n",
    "import pandas as pd\n",
    "from matplotlib import pyplot as plt\n",
    "import math\n",
    "#import scrublet as scr\n",
    "\n",
    "#import scprep\n",
    "#import phate\n",
    "\n",
    "from pprint import pprint\n",
    "#import pymrmr\n",
    "\n",
    "from sklearn import svm\n",
    "from sklearn.decomposition import PCA\n",
    "from sklearn.datasets import make_classification\n",
    "from sklearn.preprocessing import StandardScaler\n",
    "from sklearn.pipeline import make_pipeline\n",
    "from sklearn.model_selection import LeaveOneOut, train_test_split, cross_val_score, GridSearchCV, cross_validate, KFold, StratifiedKFold, RandomizedSearchCV\n",
    "from sklearn.metrics import roc_curve, auc, precision_recall_curve, classification_report, average_precision_score, f1_score, accuracy_score, roc_auc_score\n",
    "\n",
    "#import os\n",
    "#import re\n",
    "#import graphviz\n",
    "\n",
    "import xgboost as xgb\n",
    "from xgboost import XGBClassifier\n",
    "from sklearn.ensemble import RandomForestClassifier\n",
    "\n",
    "from multiprocessing import Pool\n"
   ]
  },
  {
   "cell_type": "code",
   "execution_count": null,
   "id": "5a7dbbbc-4d8e-4bde-b70d-79e61277ce59",
   "metadata": {},
   "outputs": [],
   "source": [
    "#df = pd.read_pickle(\"data_original.pkl\")\n",
    "#df_qc = pd.read_pickle(\"data_filtered.pkl\")\n",
    "#data_norm = pd.read_pickle(\"data_normalized.pkl\")\n",
    "#data_log = pd.read_pickle(\"data_normalized_log.pkl\")\n",
    "data_sq = pd.read_pickle(\"data_normalized_sqrt.pkl\")\n",
    "data_hvg = pd.read_pickle(\"data_normalized_highly_variable_genes.pkl\")\n",
    "data_hvg_95 = pd.read_pickle(\"data_normalized_highly_variable_genes_95.pkl\")\n",
    "#metadata = pd.read_pickle(\"metadata.pkl\")\n",
    "metadata_final = pd.read_pickle(\"metadata_final.pkl\")"
   ]
  },
  {
   "cell_type": "code",
   "execution_count": null,
   "id": "981ebcf8-f889-4a87-ab2f-e025cb964028",
   "metadata": {},
   "outputs": [],
   "source": [
    "X = data_hvg_95.values\n",
    "labels = metadata_final[\"Cell class\"].replace('Tumor', 1)\n",
    "labels = labels.replace('Periphery', 0)\n",
    "y = np.array(labels)"
   ]
  },
  {
   "cell_type": "code",
   "execution_count": null,
   "id": "0155b3e9-1a63-48ca-85a6-586179759005",
   "metadata": {},
   "outputs": [],
   "source": [
    "inner_metric = 'roc_auc'\n",
    "outer_metrics = ['roc_auc', 'average_precision', 'f1']\n",
    "\n",
    "\n",
    "# configure the cross-validation procedure\n",
    "cv_inner = StratifiedKFold(n_splits=3, shuffle=True)\n",
    "cv_outer = StratifiedKFold(n_splits=10, shuffle=True)"
   ]
  },
  {
   "cell_type": "code",
   "execution_count": null,
   "id": "508877e2-ff70-42ce-963a-7a079ca17921",
   "metadata": {},
   "outputs": [],
   "source": [
    "# define the model\n",
    "rf = RandomForestClassifier()\n",
    "\n",
    "# define parameters\n",
    "grid_params = {'n_estimators': [700, 800, 900],\n",
    "               #'max_features': max_features,\n",
    "               'max_depth': [30, 40, 50],\n",
    "               'bootstrap': bootstrap}\n",
    "outputs = {}\n",
    "scores = {}\n",
    "params = {}\n",
    "\n",
    "rounds = 10\n",
    "for r in range(rounds):\n",
    "    print(\"For round\",r, \":\")\n",
    "    # define search\n",
    "    rf_grid = GridSearchCV(estimator = rf, param_grid = grid_params, cv = cv_inner, verbose=2,  n_jobs = -1)\n",
    "    \n",
    "    # execute the nested cross-validation\n",
    "    scores = cross_validation(rf_grid, X, y, scoring=outer_metrics, cv=cv_outer, n_jobs=-1)\n",
    "    \n",
    "    # report performance\n",
    "    output = pd.DataFrame(scores)\n",
    "    output[r] =  \n",
    "    \n",
    "    #Best\n",
    "    rf_grid.fit(X, y)\n",
    "    params[r] = rf_grid.best_params_\n",
    "    print(\"/tBest parameters:\", rf_grid.best_params_)\n",
    "    \n",
    "    scores[r] = rf_grid.best_score_\n",
    "    print(\"/tBest score:\", rf_grid.best_score_)\n",
    "    \n",
    "    params[r] = rf_grid.best_params_\n",
    "    print(\"/tBest parameters:\", rf_grid.best_params_)"
   ]
  }
 ],
 "metadata": {
  "kernelspec": {
   "display_name": "Python 3 (ipykernel)",
   "language": "python",
   "name": "python3"
  },
  "language_info": {
   "codemirror_mode": {
    "name": "ipython",
    "version": 3
   },
   "file_extension": ".py",
   "mimetype": "text/x-python",
   "name": "python",
   "nbconvert_exporter": "python",
   "pygments_lexer": "ipython3",
   "version": "3.9.12"
  }
 },
 "nbformat": 4,
 "nbformat_minor": 5
}
